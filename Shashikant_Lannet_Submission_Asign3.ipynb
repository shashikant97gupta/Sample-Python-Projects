{
  "nbformat": 4,
  "nbformat_minor": 0,
  "metadata": {
    "colab": {
      "name": "Shashikant_Lannet_Submission_Asign3.ipynb",
      "provenance": [],
      "collapsed_sections": [],
      "mount_file_id": "1gx7pE3eK9sB_HzSQ_4zk4UxZdJD1w_Hm",
      "authorship_tag": "ABX9TyMKmlhQ/J5wLOYUJf7R3X3i",
      "include_colab_link": true
    },
    "kernelspec": {
      "name": "python3",
      "display_name": "Python 3"
    }
  },
  "cells": [
    {
      "cell_type": "markdown",
      "metadata": {
        "id": "view-in-github",
        "colab_type": "text"
      },
      "source": [
        "<a href=\"https://colab.research.google.com/github/shashikant97gupta/Sample-Python-Projects/blob/master/Shashikant_Lannet_Submission_Asign3.ipynb\" target=\"_parent\"><img src=\"https://colab.research.google.com/assets/colab-badge.svg\" alt=\"Open In Colab\"/></a>"
      ]
    },
    {
      "cell_type": "code",
      "metadata": {
        "id": "_B3moS5eLMjR",
        "colab_type": "code",
        "colab": {
          "base_uri": "https://localhost:8080/",
          "height": 442
        },
        "outputId": "d3574852-4757-4669-b09b-5663272df385"
      },
      "source": [
        "import pandas as pd\n",
        "import numpy as np\n",
        "\n",
        "# Create feature matrix with two highly correlated features\n",
        "X = np.array([[1, 1, 1, 0, 2, 5, 1],\n",
        "              [2, 2, 0, 1, 2, 1, 2],\n",
        "              [3, 3, 1, 1, 2, 0, 1],\n",
        "              [4, 4, 0, 1, 2, 0, 1],\n",
        "              [5, 5, 1, 1, 0, 0, 1],\n",
        "              [6, 6, 0, 0, 1, 0, 2,],\n",
        "              [7, 7, 1, 1, 0 , 1, 0],\n",
        "              [8, 8, 0, 0 ,1, 1 ,0],\n",
        "              [9, 7, 1, 1, 0, 1, 0],\n",
        "              [8, 8, 1, 1, 0, 2, 1]])\n",
        "\n",
        "\n",
        "# Convert feature matrix into DataFrame\n",
        "df = pd.DataFrame(X)\n",
        "df.dropna(axis='rows')\n",
        "\n",
        "# View the data frame\n",
        "print(df)\n",
        "\n",
        "# Create correlation matrix\n",
        "corr_matrix = df.corr().abs()\n",
        "\n",
        "# Select upper triangle of correlation matrix\n",
        "upper = corr_matrix.where(np.triu(np.ones(corr_matrix.shape), k=1).astype(np.bool))\n",
        "\n",
        "# Find index of feature columns with correlation greater than 0.85\n",
        "to_drop = [column for column in upper.columns if any(upper[column] > 0.85)]\n",
        "\n",
        "# Drop features \n",
        "ssf = df.drop(df[to_drop], axis=1)\n",
        "print(\"-------------------------------------------------------------------------------------------------------\")\n",
        "print(\"-------------------------------------------------------------------------------------------------------\")\n",
        "print(\"showing the manipulated dataset\")\n",
        "print(ssf)\n"
      ],
      "execution_count": 8,
      "outputs": [
        {
          "output_type": "stream",
          "text": [
            "   0  1  2  3  4  5  6\n",
            "0  1  1  1  0  2  5  1\n",
            "1  2  2  0  1  2  1  2\n",
            "2  3  3  1  1  2  0  1\n",
            "3  4  4  0  1  2  0  1\n",
            "4  5  5  1  1  0  0  1\n",
            "5  6  6  0  0  1  0  2\n",
            "6  7  7  1  1  0  1  0\n",
            "7  8  8  0  0  1  1  0\n",
            "8  9  7  1  1  0  1  0\n",
            "9  8  8  1  1  0  2  1\n",
            "-------------------------------------------------------------------------------------------------------\n",
            "-------------------------------------------------------------------------------------------------------\n",
            "showing the manipulated dataset\n",
            "   0  2  3  4  5  6\n",
            "0  1  1  0  2  5  1\n",
            "1  2  0  1  2  1  2\n",
            "2  3  1  1  2  0  1\n",
            "3  4  0  1  2  0  1\n",
            "4  5  1  1  0  0  1\n",
            "5  6  0  0  1  0  2\n",
            "6  7  1  1  0  1  0\n",
            "7  8  0  0  1  1  0\n",
            "8  9  1  1  0  1  0\n",
            "9  8  1  1  0  2  1\n"
          ],
          "name": "stdout"
        }
      ]
    }
  ]
}