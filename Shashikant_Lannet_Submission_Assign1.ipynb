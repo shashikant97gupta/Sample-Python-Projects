{
  "nbformat": 4,
  "nbformat_minor": 0,
  "metadata": {
    "colab": {
      "name": "Shashikant_Lannet_Submission_Assign1.ipynb",
      "provenance": [],
      "mount_file_id": "12suHD_K5bYNHaYzM1RZ60eQu4VWLo47M",
      "authorship_tag": "ABX9TyO4tamdt/q/XTh0alL+uKQh",
      "include_colab_link": true
    },
    "kernelspec": {
      "name": "python3",
      "display_name": "Python 3"
    }
  },
  "cells": [
    {
      "cell_type": "markdown",
      "metadata": {
        "id": "view-in-github",
        "colab_type": "text"
      },
      "source": [
        "<a href=\"https://colab.research.google.com/github/shashikant97gupta/Sample-Python-Projects/blob/master/Shashikant_Lannet_Submission_Assign1.ipynb\" target=\"_parent\"><img src=\"https://colab.research.google.com/assets/colab-badge.svg\" alt=\"Open In Colab\"/></a>"
      ]
    },
    {
      "cell_type": "code",
      "metadata": {
        "id": "_B3moS5eLMjR",
        "colab_type": "code",
        "colab": {
          "base_uri": "https://localhost:8080/",
          "height": 901
        },
        "outputId": "e17b74a3-fb5a-4f03-962a-9b312979aaf6"
      },
      "source": [
        "import pandas as pd\n",
        "# import numpy as np\n",
        "import datetime\n",
        "\n",
        "sf = pd.read_csv(\"/content/drive/My Drive/Colab Notebooks/parc_csv_lannet.csv\") ## importing csv file\n",
        "# sf.info()\n",
        "# print(sf.head(30))\n",
        "\n",
        "# print(column_list)\n",
        "sf = sf.dropna(how='any',axis=0)  ## dropping the rows containing null values because its better to avoid null date time values \n",
        "ssf = sf.select_dtypes(exclude=['int64','float64'])  ### getting the columns that have no int or float dtype\n",
        "# print(ssf)\n",
        "\n",
        "column_list = ssf.columns ## getting the ssf dataframe colume names\n",
        "\n",
        "for i in column_list:  ## attempting to convert the other dtype to datetime type\n",
        "    try:\n",
        "        \n",
        "        sf[i] = pd.to_datetime(ssf[i])\n",
        "\n",
        "    except:\n",
        "        continue\n",
        "\n",
        "# print(sf.head(30))\n",
        "# print(sf.info())\n",
        "\n",
        "onlydate = sf.select_dtypes(include=['datetime64'])  ## taking only datetime type columns\n",
        "onlydate_col = onlydate.columns\n",
        "\n",
        "# print(onlydate_col)\n",
        "\n",
        "for i in range(len(onlydate_col)-1): ## looping to get every combination of columns\n",
        "    for j in range(i+1 ,len(onlydate_col) ):\n",
        "        try:\n",
        "            sf[((onlydate_col[i])+ '-' + (onlydate_col[j]))] = sf[(onlydate_col[i])] - sf[(onlydate_col[j])]  ## subtracting the value and storing in new column\n",
        "        except:\n",
        "            break\n",
        "print(sf.head(30))\n",
        "print(sf.info())\n"
      ],
      "execution_count": 2,
      "outputs": [
        {
          "output_type": "stream",
          "text": [
            "       date_1  max_temp  precip  ... date_2-date_3 date_2-date_4 date_3-date_4\n",
            "0  2018-07-01        87    0.00  ...       26 days       -1 days      -27 days\n",
            "1  2018-07-02        92    0.00  ...       26 days       -1 days      -27 days\n",
            "2  2018-07-03        90 -999.00  ...       26 days       -1 days      -27 days\n",
            "3  2018-07-04        87    0.00  ...       26 days       -1 days      -27 days\n",
            "4  2018-07-05        84    0.24  ...       26 days       -1 days      -27 days\n",
            "5  2018-07-06        87    0.00  ...       26 days       -1 days      -27 days\n",
            "7  2018-07-08        96    0.00  ...       26 days     -302 days     -328 days\n",
            "9  2018-07-10        97    0.00  ...      358 days      331 days      -27 days\n",
            "10 2018-07-11        95    0.00  ...      358 days      331 days      -27 days\n",
            "11 2018-07-12        92    0.05  ...      358 days      331 days      -27 days\n",
            "12 2018-07-13        88    0.00  ...      358 days      331 days      -27 days\n",
            "13 2018-07-14        94    0.00  ...      358 days      331 days      -27 days\n",
            "15 2018-07-16        85    0.02  ...      358 days      331 days      -27 days\n",
            "16 2018-07-17        84 -999.00  ...      358 days      331 days      -27 days\n",
            "17 2018-07-18        94 -999.00  ...      358 days      331 days      -27 days\n",
            "18 2018-07-19        97    0.00  ...      358 days      331 days      -27 days\n",
            "19 2018-07-20        94    0.00  ...      358 days      331 days      -27 days\n",
            "20 2018-07-21        93    0.05  ...      358 days      331 days      -27 days\n",
            "21 2018-07-22        94    0.11  ...      358 days      331 days      -27 days\n",
            "22 2018-07-23        78    0.31  ...      358 days      331 days      -27 days\n",
            "23 2018-07-24        86    0.11  ...      358 days      331 days      -27 days\n",
            "24 2018-07-25        82    0.03  ...      358 days      331 days      -27 days\n",
            "25 2018-07-26        81    0.07  ...      358 days      331 days      -27 days\n",
            "26 2018-07-27        80    0.35  ...      358 days      331 days      -27 days\n",
            "27 2018-07-28        77    0.01  ...      358 days      331 days      -27 days\n",
            "28 2018-07-29        75    0.04  ...      358 days      331 days      -27 days\n",
            "29 2018-07-30        77    0.00  ...      358 days      331 days      -27 days\n",
            "30 2018-07-31        84    0.00  ...      358 days      331 days      -27 days\n",
            "\n",
            "[28 rows x 13 columns]\n",
            "<class 'pandas.core.frame.DataFrame'>\n",
            "Int64Index: 28 entries, 0 to 30\n",
            "Data columns (total 13 columns):\n",
            " #   Column         Non-Null Count  Dtype          \n",
            "---  ------         --------------  -----          \n",
            " 0   date_1         28 non-null     datetime64[ns] \n",
            " 1   max_temp       28 non-null     int64          \n",
            " 2   precip         28 non-null     float64        \n",
            " 3   date_2         28 non-null     datetime64[ns] \n",
            " 4   date_3         28 non-null     datetime64[ns] \n",
            " 5   date_4         28 non-null     datetime64[ns] \n",
            " 6   city_name      28 non-null     object         \n",
            " 7   date_1-date_2  28 non-null     timedelta64[ns]\n",
            " 8   date_1-date_3  28 non-null     timedelta64[ns]\n",
            " 9   date_1-date_4  28 non-null     timedelta64[ns]\n",
            " 10  date_2-date_3  28 non-null     timedelta64[ns]\n",
            " 11  date_2-date_4  28 non-null     timedelta64[ns]\n",
            " 12  date_3-date_4  28 non-null     timedelta64[ns]\n",
            "dtypes: datetime64[ns](4), float64(1), int64(1), object(1), timedelta64[ns](6)\n",
            "memory usage: 3.1+ KB\n",
            "None\n"
          ],
          "name": "stdout"
        }
      ]
    }
  ]
}