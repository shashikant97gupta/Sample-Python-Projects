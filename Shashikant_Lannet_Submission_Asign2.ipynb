{
  "nbformat": 4,
  "nbformat_minor": 0,
  "metadata": {
    "colab": {
      "name": "Shashikant_Lannet_Submission_Asign2.ipynb",
      "provenance": [],
      "mount_file_id": "1UugjVd3NuMOsOeSpIq2-4jag_b_0ACl4",
      "authorship_tag": "ABX9TyM69WzIQiP0fEf+AU3pwj5T",
      "include_colab_link": true
    },
    "kernelspec": {
      "name": "python3",
      "display_name": "Python 3"
    }
  },
  "cells": [
    {
      "cell_type": "markdown",
      "metadata": {
        "id": "view-in-github",
        "colab_type": "text"
      },
      "source": [
        "<a href=\"https://colab.research.google.com/github/shashikant97gupta/Sample-Python-Projects/blob/master/Shashikant_Lannet_Submission_Asign2.ipynb\" target=\"_parent\"><img src=\"https://colab.research.google.com/assets/colab-badge.svg\" alt=\"Open In Colab\"/></a>"
      ]
    },
    {
      "cell_type": "code",
      "metadata": {
        "id": "_B3moS5eLMjR",
        "colab_type": "code",
        "colab": {
          "base_uri": "https://localhost:8080/",
          "height": 955
        },
        "outputId": "2e02ba37-ca03-44f0-a071-598e16b4161d"
      },
      "source": [
        "import pandas as pd\n",
        "from scipy import stats\n",
        "import numpy as np\n",
        "\n",
        "## importing the dataset\n",
        "sf = pd.read_csv(\"/content/drive/My Drive/Colab Notebooks/Glass_withoutdupl_norm.csv\")\n",
        "\n",
        "print(sf.head())\n",
        "print(\"-------------------------------------------------------------------------------------------------------\")\n",
        "print(\"-------------------------------------------------------------------------------------------------------\")\n",
        "print(\"-------------------------------------------------------------------------------------------------------\")\n",
        "##filtering the columns_names that exist\n",
        "sf_cols = sf.columns\n",
        "\n",
        "print(sf_cols)\n",
        "print(\"-------------------------------------------------------------------------------------------------------\")\n",
        "#attempting to convert the convertible type columns to float data type (checking if there exist \n",
        "# any columns that can be converted to the required format or not)\n",
        "for i in sf_cols:\n",
        "    try :\n",
        "        if i.dtype() == 'int32' or i.dtype() == 'int64' : ## checking if there is already a variable that is int format\n",
        "            continue\n",
        "        sf.astype({i : 'float64'}).dtypes  ##typecasting column i to float type \n",
        "    except:\n",
        "        continue\n",
        "# print(sf.info())\n",
        "\n",
        "ssf = sf.select_dtypes(include=['float64']) # taking all the float type columns to perform z_score operation\n",
        "print(\"-------------------------------------------------------------------------------------------------------\")\n",
        "\n",
        "print(\"showing filtered datset first 5 elements\")\n",
        "print(ssf.head()) \n",
        "print(\"-------------------------------------------------------------------------------------------------------\")\n",
        "\n",
        "z = np.abs(stats.zscore(ssf))  ## z_score operation is performed\n",
        "print(\"z_score matrix\")\n",
        "print(z) # value of z is printed \n",
        "print(\"-------------------------------------------------------------------------------------------------------\")\n",
        "\n",
        "threshold = 2.5 # our threshold for outlier is fixed to 2.5 because we have all values normalized \n",
        "##therefore if any value is greater than the expections should be removed to perform further operation on data.\n",
        "print(\"where z is> 2.5\")\n",
        "print(np.where(z > 2.5))  ## checking where our z value is greater than 2.5\n",
        "\n",
        "print(\"-------------------------------------------------------------------------------------------------------\")\n",
        "\n",
        "\n",
        "print(\"After deleting the outliers of threshold > 2.5 ,dataset \")\n",
        "ssf = sf[(z < 2.5).all(axis=1)] ## filtering and removing all unwanted outliers\n",
        "\n",
        "print(ssf.head(130)) ## printing the first 30 tuples."
      ],
      "execution_count": 6,
      "outputs": [
        {
          "output_type": "stream",
          "text": [
            "   var_0000  var_0001  var_0002  var_0003  ...  var_0005  var_0006   id  outlier\n",
            "0  0.467651  0.321584  0.768880  0.246630  ...  0.099737  0.298340  1.0     'no'\n",
            "1  0.496412  0.220491  0.776032  0.316598  ...  0.089145  0.279479  2.0     'no'\n",
            "2  0.519133  0.404464  0.768012  0.334978  ...  0.092369  0.271238  3.0     'no'\n",
            "3  0.199650  0.547373  0.374284  0.362223  ...  0.000000  0.177913  4.0    'yes'\n",
            "4  0.847261  0.286361  0.000000  0.217792  ...  0.019135  1.000000  5.0     'no'\n",
            "\n",
            "[5 rows x 9 columns]\n",
            "-------------------------------------------------------------------------------------------------------\n",
            "-------------------------------------------------------------------------------------------------------\n",
            "-------------------------------------------------------------------------------------------------------\n",
            "Index(['var_0000', 'var_0001', 'var_0002', 'var_0003', 'var_0004', 'var_0005',\n",
            "       'var_0006', 'id', 'outlier'],\n",
            "      dtype='object')\n",
            "-------------------------------------------------------------------------------------------------------\n",
            "-------------------------------------------------------------------------------------------------------\n",
            "showing filtered datset first 5 elements\n",
            "   var_0000  var_0001  var_0002  var_0003  var_0004  var_0005  var_0006   id\n",
            "0  0.467651  0.321584  0.768880  0.246630  0.838799  0.099737  0.298340  1.0\n",
            "1  0.496412  0.220491  0.776032  0.316598  0.919973  0.089145  0.279479  2.0\n",
            "2  0.519133  0.404464  0.768012  0.334978  0.801622  0.092369  0.271238  3.0\n",
            "3  0.199650  0.547373  0.374284  0.362223  0.817017  0.000000  0.177913  4.0\n",
            "4  0.847261  0.286361  0.000000  0.217792  0.000000  0.019135  1.000000  5.0\n",
            "-------------------------------------------------------------------------------------------------------\n",
            "z_score matrix\n",
            "[[0.32986081 0.80587468 0.55466165 ... 0.2090982  0.15043817 1.72397593]\n",
            " [0.08467891 1.52205195 0.57716492 ... 0.10719052 0.29655899 1.70778837]\n",
            " [0.10901317 0.21872452 0.55193055 ... 0.13820925 0.36040405 1.6916008 ]\n",
            " ...\n",
            " [0.39689987 0.58191225 0.56965754 ... 0.19546335 0.72650794 1.6916008 ]\n",
            " [0.54035528 0.97601221 0.1230689  ... 0.34237097 0.31990919 1.70778837]\n",
            " [0.17412969 0.80272407 0.34893346 ... 0.75049074 0.24116965 1.72397593]]\n",
            "-------------------------------------------------------------------------------------------------------\n",
            "where z is> 2.5\n",
            "(array([  3,   4,   4,   4,  21,  32,  32,  46,  46,  54,  56,  68,  68,\n",
            "        68,  86,  86, 102, 102, 105, 105, 105, 123, 123, 126, 126, 127,\n",
            "       152, 152, 160, 160, 163, 163, 164, 164, 178, 206]), array([0, 0, 4, 6, 6, 0, 1, 0, 3, 3, 0, 0, 1, 6, 4, 6, 0, 1, 0, 3, 5, 0,\n",
            "       4, 0, 5, 3, 4, 6, 1, 6, 3, 5, 1, 6, 1, 3]))\n",
            "-------------------------------------------------------------------------------------------------------\n",
            "After deleting the outliers of threshold > 2.5 ,dataset \n",
            "     var_0000  var_0001  var_0002  var_0003  ...  var_0005  var_0006     id  outlier\n",
            "0    0.467651  0.321584  0.768880  0.246630  ...  0.099737  0.298340    1.0     'no'\n",
            "1    0.496412  0.220491  0.776032  0.316598  ...  0.089145  0.279479    2.0     'no'\n",
            "2    0.519133  0.404464  0.768012  0.334978  ...  0.092369  0.271238    3.0     'no'\n",
            "5    0.426602  0.308603  0.624353  0.340791  ...  0.088582  0.297948    6.0     'no'\n",
            "6    0.445962  0.463718  0.800347  0.106225  ...  0.009333  0.311253    7.0     'no'\n",
            "..        ...       ...       ...       ...  ...       ...       ...    ...      ...\n",
            "139  0.479382  0.378620  0.775102  0.375849  ...  0.106221  0.235251  140.0     'no'\n",
            "140  0.458075  0.300882  0.805581  0.258272  ...  0.094986  0.291415  141.0     'no'\n",
            "141  0.625631  0.543175  0.785844  0.311485  ...  0.080541  0.309812  142.0     'no'\n",
            "142  0.647880  0.532862  0.798184  0.312090  ...  0.018980  0.300978  143.0     'no'\n",
            "143  0.317795  0.305727  0.000000  0.451319  ...  0.149260  0.412813  144.0     'no'\n",
            "\n",
            "[130 rows x 9 columns]\n"
          ],
          "name": "stdout"
        }
      ]
    }
  ]
}